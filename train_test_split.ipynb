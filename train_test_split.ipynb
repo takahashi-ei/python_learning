{
 "cells": [
  {
   "cell_type": "markdown",
   "metadata": {},
   "source": [
    "# train_test_split概要 "
   ]
  },
  {
   "cell_type": "markdown",
   "metadata": {},
   "source": [
    "train_test_splitは、テストデータと学習データに分けることができる。<br>\n",
    "引数として次を与えることができる<br>\n",
    "<ul>\n",
    "    <li>random_state:乱数のシード値（この値を記憶することでどの環境でも同じように分けれる）</li>\n",
    "    <li>shuffle:データをランダムに分ける（デフォルト:True）</li>\n",
    "    <li>stratify:目的変数を指定すると、学習データとテストデータの目的変数の出現頻度が元のデータの出現人と同じになる</li>\n",
    "</ul>"
   ]
  },
  {
   "cell_type": "markdown",
   "metadata": {},
   "source": [
    "## stratifyを指定したときの出現頻度の確認 "
   ]
  },
  {
   "cell_type": "markdown",
   "metadata": {},
   "source": [
    "irisのデータで学習データ(元のデータの80%)、テストデータ(元のデータの30%)、元のデータの出現頻度を比較する"
   ]
  },
  {
   "cell_type": "markdown",
   "metadata": {},
   "source": [
    "### stratifyを利用しない場合"
   ]
  },
  {
   "cell_type": "code",
   "execution_count": 33,
   "metadata": {},
   "outputs": [],
   "source": [
    "from sklearn import datasets\n",
    "from sklearn.model_selection import train_test_split\n",
    "import numpy as np\n",
    "\n",
    "iris = datasets.load_iris()\n",
    "#3列目と4列目をデータとして選択する\n",
    "X = iris.data[:,[2,3]]\n",
    "#クラスラベルの取得\n",
    "y = iris.target\n",
    "X_train,X_test,y_train,y_test = train_test_split(X,y,random_state=1,shuffle=True)"
   ]
  },
  {
   "cell_type": "code",
   "execution_count": 34,
   "metadata": {},
   "outputs": [
    {
     "name": "stdout",
     "output_type": "stream",
     "text": [
      "origin data\n",
      "label0:50\n",
      "label1:50\n",
      "label2:50\n"
     ]
    }
   ],
   "source": [
    "#元データのラベルを確認\n",
    "print('origin data')\n",
    "for label in set(y):\n",
    "    print('label' + str(label) + ':' + str(len(y[y == label])))"
   ]
  },
  {
   "cell_type": "code",
   "execution_count": 35,
   "metadata": {},
   "outputs": [
    {
     "name": "stdout",
     "output_type": "stream",
     "text": [
      "train data\n",
      "label0:37\n",
      "label1:34\n",
      "label2:41\n"
     ]
    }
   ],
   "source": [
    "#学習データのラベルを確認\n",
    "print('train data')\n",
    "for label in set(y_train):\n",
    "    print('label' + str(label) + ':' + str(len(y_train[y_train == label])))"
   ]
  },
  {
   "cell_type": "code",
   "execution_count": 36,
   "metadata": {},
   "outputs": [
    {
     "name": "stdout",
     "output_type": "stream",
     "text": [
      "test data\n",
      "label0:13\n",
      "label1:16\n",
      "label2:9\n"
     ]
    }
   ],
   "source": [
    "#テストのラベルを確認\n",
    "print('test data')\n",
    "for label in set(y_test):\n",
    "    print('label' + str(label) + ':' + str(len(y_test[y_test == label])))"
   ]
  },
  {
   "cell_type": "markdown",
   "metadata": {},
   "source": [
    "### stratifyを利用した場合 "
   ]
  },
  {
   "cell_type": "code",
   "execution_count": 23,
   "metadata": {},
   "outputs": [],
   "source": [
    "from sklearn import datasets\n",
    "from sklearn.model_selection import train_test_split\n",
    "import numpy as np\n",
    "\n",
    "iris = datasets.load_iris()\n",
    "#3列目と4列目をデータとして選択する\n",
    "X = iris.data[:,[2,3]]\n",
    "#クラスラベルの取得\n",
    "y = iris.target\n",
    "X_train,X_test,y_train,y_test = train_test_split(X,y,random_state=1,shuffle=True,stratify = y)"
   ]
  },
  {
   "cell_type": "code",
   "execution_count": 30,
   "metadata": {},
   "outputs": [
    {
     "name": "stdout",
     "output_type": "stream",
     "text": [
      "origin data\n",
      "label0:50\n",
      "label1:50\n",
      "label2:50\n"
     ]
    }
   ],
   "source": [
    "#元データのラベルを確認\n",
    "print('origin data')\n",
    "for label in set(y):\n",
    "    print('label' + str(label) + ':' + str(len(y[y == label])))"
   ]
  },
  {
   "cell_type": "code",
   "execution_count": 31,
   "metadata": {},
   "outputs": [
    {
     "name": "stdout",
     "output_type": "stream",
     "text": [
      "train data\n",
      "label0:38\n",
      "label1:37\n",
      "label2:37\n"
     ]
    }
   ],
   "source": [
    "#学習データのラベルを確認\n",
    "print('train data')\n",
    "for label in set(y_train):\n",
    "    print('label' + str(label) + ':' + str(len(y_train[y_train == label])))"
   ]
  },
  {
   "cell_type": "code",
   "execution_count": 32,
   "metadata": {},
   "outputs": [
    {
     "name": "stdout",
     "output_type": "stream",
     "text": [
      "test data\n",
      "label0:12\n",
      "label1:13\n",
      "label2:13\n"
     ]
    }
   ],
   "source": [
    "#テストのラベルを確認\n",
    "print('test data')\n",
    "for label in set(y_test):\n",
    "    print('label' + str(label) + ':' + str(len(y_test[y_test == label])))"
   ]
  },
  {
   "cell_type": "code",
   "execution_count": null,
   "metadata": {},
   "outputs": [],
   "source": []
  }
 ],
 "metadata": {
  "kernelspec": {
   "display_name": "Python 3",
   "language": "python",
   "name": "python3"
  },
  "language_info": {
   "codemirror_mode": {
    "name": "ipython",
    "version": 3
   },
   "file_extension": ".py",
   "mimetype": "text/x-python",
   "name": "python",
   "nbconvert_exporter": "python",
   "pygments_lexer": "ipython3",
   "version": "3.6.6"
  }
 },
 "nbformat": 4,
 "nbformat_minor": 2
}
